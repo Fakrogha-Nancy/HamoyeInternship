{
 "cells": [
  {
   "cell_type": "markdown",
   "metadata": {},
   "source": [
    "## HSDC-STAGE-A (TAG ALONG)"
   ]
  },
  {
   "cell_type": "markdown",
   "metadata": {},
   "source": [
    "I, Fakrogha Nancy, used this jupyter notebook as a guide and to answer questions 11 - 20."
   ]
  },
  {
   "cell_type": "code",
   "execution_count": 1,
   "metadata": {},
   "outputs": [],
   "source": [
    "import pandas as pd #importing the necessary packages for quiz"
   ]
  },
  {
   "cell_type": "code",
   "execution_count": 2,
   "metadata": {},
   "outputs": [],
   "source": [
    "import numpy as np"
   ]
  },
  {
   "cell_type": "code",
   "execution_count": 3,
   "metadata": {},
   "outputs": [],
   "source": [
    "import matplotlib.pyplot as plt"
   ]
  },
  {
   "cell_type": "code",
   "execution_count": 4,
   "metadata": {},
   "outputs": [],
   "source": [
    "import seaborn as sns"
   ]
  },
  {
   "cell_type": "code",
   "execution_count": 23,
   "metadata": {},
   "outputs": [],
   "source": [
    "ham = pd.read_csv('hamoyedata1.csv', encoding = 'ISO-8859-1') # reading in the dataset"
   ]
  },
  {
   "cell_type": "code",
   "execution_count": 24,
   "metadata": {},
   "outputs": [
    {
     "data": {
      "text/html": [
       "<div>\n",
       "<style scoped>\n",
       "    .dataframe tbody tr th:only-of-type {\n",
       "        vertical-align: middle;\n",
       "    }\n",
       "\n",
       "    .dataframe tbody tr th {\n",
       "        vertical-align: top;\n",
       "    }\n",
       "\n",
       "    .dataframe thead th {\n",
       "        text-align: right;\n",
       "    }\n",
       "</style>\n",
       "<table border=\"1\" class=\"dataframe\">\n",
       "  <thead>\n",
       "    <tr style=\"text-align: right;\">\n",
       "      <th></th>\n",
       "      <th>Area Code</th>\n",
       "      <th>Area</th>\n",
       "      <th>Item Code</th>\n",
       "      <th>Item</th>\n",
       "      <th>Element Code</th>\n",
       "      <th>Element</th>\n",
       "      <th>Unit</th>\n",
       "      <th>Y2014</th>\n",
       "      <th>Y2015</th>\n",
       "      <th>Y2016</th>\n",
       "      <th>Y2017</th>\n",
       "      <th>Y2018</th>\n",
       "    </tr>\n",
       "  </thead>\n",
       "  <tbody>\n",
       "    <tr>\n",
       "      <th>0</th>\n",
       "      <td>4</td>\n",
       "      <td>Algeria</td>\n",
       "      <td>2501</td>\n",
       "      <td>Population</td>\n",
       "      <td>511</td>\n",
       "      <td>Total Population - Both sexes</td>\n",
       "      <td>1000 persons</td>\n",
       "      <td>38924.00</td>\n",
       "      <td>39728.00</td>\n",
       "      <td>40551.00</td>\n",
       "      <td>41389.00</td>\n",
       "      <td>42228.00</td>\n",
       "    </tr>\n",
       "    <tr>\n",
       "      <th>1</th>\n",
       "      <td>4</td>\n",
       "      <td>Algeria</td>\n",
       "      <td>2501</td>\n",
       "      <td>Population</td>\n",
       "      <td>5301</td>\n",
       "      <td>Domestic supply quantity</td>\n",
       "      <td>1000 tonnes</td>\n",
       "      <td>0.00</td>\n",
       "      <td>0.00</td>\n",
       "      <td>0.00</td>\n",
       "      <td>0.00</td>\n",
       "      <td>0.00</td>\n",
       "    </tr>\n",
       "    <tr>\n",
       "      <th>2</th>\n",
       "      <td>4</td>\n",
       "      <td>Algeria</td>\n",
       "      <td>2901</td>\n",
       "      <td>Grand Total</td>\n",
       "      <td>664</td>\n",
       "      <td>Food supply (kcal/capita/day)</td>\n",
       "      <td>kcal/capita/day</td>\n",
       "      <td>3377.00</td>\n",
       "      <td>3379.00</td>\n",
       "      <td>3372.00</td>\n",
       "      <td>3341.00</td>\n",
       "      <td>3322.00</td>\n",
       "    </tr>\n",
       "    <tr>\n",
       "      <th>3</th>\n",
       "      <td>4</td>\n",
       "      <td>Algeria</td>\n",
       "      <td>2901</td>\n",
       "      <td>Grand Total</td>\n",
       "      <td>674</td>\n",
       "      <td>Protein supply quantity (g/capita/day)</td>\n",
       "      <td>g/capita/day</td>\n",
       "      <td>94.90</td>\n",
       "      <td>94.35</td>\n",
       "      <td>94.72</td>\n",
       "      <td>92.82</td>\n",
       "      <td>91.83</td>\n",
       "    </tr>\n",
       "    <tr>\n",
       "      <th>4</th>\n",
       "      <td>4</td>\n",
       "      <td>Algeria</td>\n",
       "      <td>2901</td>\n",
       "      <td>Grand Total</td>\n",
       "      <td>684</td>\n",
       "      <td>Fat supply quantity (g/capita/day)</td>\n",
       "      <td>g/capita/day</td>\n",
       "      <td>80.06</td>\n",
       "      <td>79.36</td>\n",
       "      <td>77.40</td>\n",
       "      <td>80.19</td>\n",
       "      <td>77.28</td>\n",
       "    </tr>\n",
       "  </tbody>\n",
       "</table>\n",
       "</div>"
      ],
      "text/plain": [
       "   Area Code     Area  Item Code         Item  Element Code  \\\n",
       "0          4  Algeria       2501   Population           511   \n",
       "1          4  Algeria       2501   Population          5301   \n",
       "2          4  Algeria       2901  Grand Total           664   \n",
       "3          4  Algeria       2901  Grand Total           674   \n",
       "4          4  Algeria       2901  Grand Total           684   \n",
       "\n",
       "                                  Element             Unit     Y2014  \\\n",
       "0           Total Population - Both sexes     1000 persons  38924.00   \n",
       "1                Domestic supply quantity      1000 tonnes      0.00   \n",
       "2           Food supply (kcal/capita/day)  kcal/capita/day   3377.00   \n",
       "3  Protein supply quantity (g/capita/day)     g/capita/day     94.90   \n",
       "4      Fat supply quantity (g/capita/day)     g/capita/day     80.06   \n",
       "\n",
       "      Y2015     Y2016     Y2017     Y2018  \n",
       "0  39728.00  40551.00  41389.00  42228.00  \n",
       "1      0.00      0.00      0.00      0.00  \n",
       "2   3379.00   3372.00   3341.00   3322.00  \n",
       "3     94.35     94.72     92.82     91.83  \n",
       "4     79.36     77.40     80.19     77.28  "
      ]
     },
     "execution_count": 24,
     "metadata": {},
     "output_type": "execute_result"
    }
   ],
   "source": [
    "ham.head() # exploring the dataset"
   ]
  },
  {
   "cell_type": "code",
   "execution_count": 26,
   "metadata": {},
   "outputs": [
    {
     "data": {
      "text/plain": [
       "135.23596649549236"
      ]
     },
     "execution_count": 26,
     "metadata": {},
     "output_type": "execute_result"
    }
   ],
   "source": [
    "ham['Y2015'].mean()"
   ]
  },
  {
   "cell_type": "code",
   "execution_count": 27,
   "metadata": {},
   "outputs": [
    {
     "data": {
      "text/plain": [
       "1535"
      ]
     },
     "execution_count": 27,
     "metadata": {},
     "output_type": "execute_result"
    }
   ],
   "source": [
    "ham['Y2016'].isnull().sum()"
   ]
  },
  {
   "cell_type": "code",
   "execution_count": 47,
   "metadata": {},
   "outputs": [
    {
     "data": {
      "text/html": [
       "<div>\n",
       "<style scoped>\n",
       "    .dataframe tbody tr th:only-of-type {\n",
       "        vertical-align: middle;\n",
       "    }\n",
       "\n",
       "    .dataframe tbody tr th {\n",
       "        vertical-align: top;\n",
       "    }\n",
       "\n",
       "    .dataframe thead th {\n",
       "        text-align: right;\n",
       "    }\n",
       "</style>\n",
       "<table border=\"1\" class=\"dataframe\">\n",
       "  <thead>\n",
       "    <tr style=\"text-align: right;\">\n",
       "      <th></th>\n",
       "      <th>Area Code</th>\n",
       "      <th>Item Code</th>\n",
       "      <th>Element Code</th>\n",
       "      <th>Y2014</th>\n",
       "      <th>Y2015</th>\n",
       "      <th>Y2016</th>\n",
       "      <th>Y2017</th>\n",
       "      <th>Y2018</th>\n",
       "    </tr>\n",
       "    <tr>\n",
       "      <th>Item</th>\n",
       "      <th></th>\n",
       "      <th></th>\n",
       "      <th></th>\n",
       "      <th></th>\n",
       "      <th></th>\n",
       "      <th></th>\n",
       "      <th></th>\n",
       "      <th></th>\n",
       "    </tr>\n",
       "  </thead>\n",
       "  <tbody>\n",
       "    <tr>\n",
       "      <th>Alcohol, Non-Food</th>\n",
       "      <td>38447</td>\n",
       "      <td>752497</td>\n",
       "      <td>1515090</td>\n",
       "      <td>2403.00</td>\n",
       "      <td>2180.00</td>\n",
       "      <td>2223.00</td>\n",
       "      <td>2348.00</td>\n",
       "      <td>2293.00</td>\n",
       "    </tr>\n",
       "    <tr>\n",
       "      <th>Alcoholic Beverages</th>\n",
       "      <td>75016</td>\n",
       "      <td>1649136</td>\n",
       "      <td>2171381</td>\n",
       "      <td>102410.11</td>\n",
       "      <td>98783.72</td>\n",
       "      <td>96958.75</td>\n",
       "      <td>95581.06</td>\n",
       "      <td>97847.27</td>\n",
       "    </tr>\n",
       "    <tr>\n",
       "      <th>Animal Products</th>\n",
       "      <td>18060</td>\n",
       "      <td>397035</td>\n",
       "      <td>90990</td>\n",
       "      <td>11935.65</td>\n",
       "      <td>11811.73</td>\n",
       "      <td>11661.69</td>\n",
       "      <td>11547.65</td>\n",
       "      <td>11578.61</td>\n",
       "    </tr>\n",
       "    <tr>\n",
       "      <th>Animal fats</th>\n",
       "      <td>85279</td>\n",
       "      <td>1882494</td>\n",
       "      <td>2567303</td>\n",
       "      <td>209460.54</td>\n",
       "      <td>200675.72</td>\n",
       "      <td>183314.22</td>\n",
       "      <td>269617.53</td>\n",
       "      <td>269648.27</td>\n",
       "    </tr>\n",
       "    <tr>\n",
       "      <th>Apples and products</th>\n",
       "      <td>69280</td>\n",
       "      <td>1352989</td>\n",
       "      <td>1920418</td>\n",
       "      <td>9499.23</td>\n",
       "      <td>10559.15</td>\n",
       "      <td>9853.26</td>\n",
       "      <td>10198.90</td>\n",
       "      <td>9640.51</td>\n",
       "    </tr>\n",
       "    <tr>\n",
       "      <th>...</th>\n",
       "      <td>...</td>\n",
       "      <td>...</td>\n",
       "      <td>...</td>\n",
       "      <td>...</td>\n",
       "      <td>...</td>\n",
       "      <td>...</td>\n",
       "      <td>...</td>\n",
       "      <td>...</td>\n",
       "    </tr>\n",
       "    <tr>\n",
       "      <th>Vegetables, Other</th>\n",
       "      <td>77779</td>\n",
       "      <td>1518715</td>\n",
       "      <td>2275409</td>\n",
       "      <td>155038.96</td>\n",
       "      <td>158104.08</td>\n",
       "      <td>156218.90</td>\n",
       "      <td>157752.59</td>\n",
       "      <td>163987.21</td>\n",
       "    </tr>\n",
       "    <tr>\n",
       "      <th>Vegetal Products</th>\n",
       "      <td>18060</td>\n",
       "      <td>391905</td>\n",
       "      <td>90990</td>\n",
       "      <td>107145.19</td>\n",
       "      <td>107064.17</td>\n",
       "      <td>106792.72</td>\n",
       "      <td>107655.20</td>\n",
       "      <td>107775.39</td>\n",
       "    </tr>\n",
       "    <tr>\n",
       "      <th>Wheat and products</th>\n",
       "      <td>87073</td>\n",
       "      <td>1639683</td>\n",
       "      <td>2654934</td>\n",
       "      <td>232670.13</td>\n",
       "      <td>234710.51</td>\n",
       "      <td>239377.07</td>\n",
       "      <td>240047.62</td>\n",
       "      <td>242645.19</td>\n",
       "    </tr>\n",
       "    <tr>\n",
       "      <th>Wine</th>\n",
       "      <td>66206</td>\n",
       "      <td>1319535</td>\n",
       "      <td>1818328</td>\n",
       "      <td>4497.36</td>\n",
       "      <td>4251.81</td>\n",
       "      <td>3872.09</td>\n",
       "      <td>4178.02</td>\n",
       "      <td>4039.32</td>\n",
       "    </tr>\n",
       "    <tr>\n",
       "      <th>Yams</th>\n",
       "      <td>50798</td>\n",
       "      <td>970905</td>\n",
       "      <td>1525745</td>\n",
       "      <td>200396.96</td>\n",
       "      <td>203151.78</td>\n",
       "      <td>220626.20</td>\n",
       "      <td>229174.59</td>\n",
       "      <td>221272.09</td>\n",
       "    </tr>\n",
       "  </tbody>\n",
       "</table>\n",
       "<p>119 rows × 8 columns</p>\n",
       "</div>"
      ],
      "text/plain": [
       "                     Area Code  Item Code  Element Code      Y2014      Y2015  \\\n",
       "Item                                                                            \n",
       "Alcohol, Non-Food        38447     752497       1515090    2403.00    2180.00   \n",
       "Alcoholic Beverages      75016    1649136       2171381  102410.11   98783.72   \n",
       "Animal Products          18060     397035         90990   11935.65   11811.73   \n",
       "Animal fats              85279    1882494       2567303  209460.54  200675.72   \n",
       "Apples and products      69280    1352989       1920418    9499.23   10559.15   \n",
       "...                        ...        ...           ...        ...        ...   \n",
       "Vegetables, Other        77779    1518715       2275409  155038.96  158104.08   \n",
       "Vegetal Products         18060     391905         90990  107145.19  107064.17   \n",
       "Wheat and products       87073    1639683       2654934  232670.13  234710.51   \n",
       "Wine                     66206    1319535       1818328    4497.36    4251.81   \n",
       "Yams                     50798     970905       1525745  200396.96  203151.78   \n",
       "\n",
       "                         Y2016      Y2017      Y2018  \n",
       "Item                                                  \n",
       "Alcohol, Non-Food      2223.00    2348.00    2293.00  \n",
       "Alcoholic Beverages   96958.75   95581.06   97847.27  \n",
       "Animal Products       11661.69   11547.65   11578.61  \n",
       "Animal fats          183314.22  269617.53  269648.27  \n",
       "Apples and products    9853.26   10198.90    9640.51  \n",
       "...                        ...        ...        ...  \n",
       "Vegetables, Other    156218.90  157752.59  163987.21  \n",
       "Vegetal Products     106792.72  107655.20  107775.39  \n",
       "Wheat and products   239377.07  240047.62  242645.19  \n",
       "Wine                   3872.09    4178.02    4039.32  \n",
       "Yams                 220626.20  229174.59  221272.09  \n",
       "\n",
       "[119 rows x 8 columns]"
      ]
     },
     "execution_count": 47,
     "metadata": {},
     "output_type": "execute_result"
    }
   ],
   "source": [
    "ham.groupby('Item').sum() # question 11"
   ]
  },
  {
   "cell_type": "code",
   "execution_count": 30,
   "metadata": {},
   "outputs": [
    {
     "data": {
      "text/plain": [
       "<AxesSubplot:xlabel='Element Code', ylabel='Y2015'>"
      ]
     },
     "execution_count": 30,
     "metadata": {},
     "output_type": "execute_result"
    },
    {
     "data": {
      "image/png": "[encoded data removed]",
      "text/plain": [
       "<Figure size 432x288 with 1 Axes>"
      ]
     },
     "metadata": {
      "needs_background": "light"
     },
     "output_type": "display_data"
    }
   ],
   "source": [
    "sns.regplot(x=ham['Element Code'], y=ham['Y2015'], fit_reg = False)"
   ]
  },
  {
   "cell_type": "code",
   "execution_count": 31,
   "metadata": {},
   "outputs": [
    {
     "data": {
      "text/plain": [
       "<AxesSubplot:xlabel='Element Code', ylabel='Y2016'>"
      ]
     },
     "execution_count": 31,
     "metadata": {},
     "output_type": "execute_result"
    },
    {
     "data": {
      "image/png": "[encoded data removed]",
      "text/plain": [
       "<Figure size 432x288 with 1 Axes>"
      ]
     },
     "metadata": {
      "needs_background": "light"
     },
     "output_type": "display_data"
    }
   ],
   "source": [
    "sns.regplot(x=ham['Element Code'], y=ham['Y2016'], fit_reg = False)"
   ]
  },
  {
   "cell_type": "code",
   "execution_count": 32,
   "metadata": {},
   "outputs": [
    {
     "data": {
      "text/plain": [
       "<AxesSubplot:xlabel='Element Code', ylabel='Y2017'>"
      ]
     },
     "execution_count": 32,
     "metadata": {},
     "output_type": "execute_result"
    },
    {
     "data": {
      "image/png": "[encoded data removed]",
      "text/plain": [
       "<Figure size 432x288 with 1 Axes>"
      ]
     },
     "metadata": {
      "needs_background": "light"
     },
     "output_type": "display_data"
    }
   ],
   "source": [
    "sns.regplot(x=ham['Element Code'], y=ham['Y2017'], fit_reg = False)"
   ]
  },
  {
   "cell_type": "code",
   "execution_count": 33,
   "metadata": {},
   "outputs": [
    {
     "data": {
      "text/plain": [
       "<AxesSubplot:xlabel='Element Code', ylabel='Y2018'>"
      ]
     },
     "execution_count": 33,
     "metadata": {},
     "output_type": "execute_result"
    },
    {
     "data": {
      "image/png": "[encoded data removed]",
      "text/plain": [
       "<Figure size 432x288 with 1 Axes>"
      ]
     },
     "metadata": {
      "needs_background": "light"
     },
     "output_type": "display_data"
    }
   ],
   "source": [
    "sns.regplot(x=ham['Element Code'], y=ham['Y2018'], fit_reg = False)"
   ]
  },
  {
   "cell_type": "code",
   "execution_count": 48,
   "metadata": {},
   "outputs": [
    {
     "data": {
      "text/plain": [
       "Element\n",
       "Domestic supply quantity                  5295\n",
       "Export Quantity                           4403\n",
       "Fat supply quantity (g/capita/day)        5023\n",
       "Feed                                      1319\n",
       "Food                                      4941\n",
       "Food supply (kcal/capita/day)             5014\n",
       "Food supply quantity (kg/capita/yr)       4905\n",
       "Import Quantity                           5139\n",
       "Losses                                    2009\n",
       "Other uses (non-food)                     1732\n",
       "Processing                                2010\n",
       "Production                                3881\n",
       "Protein supply quantity (g/capita/day)    5023\n",
       "Residuals                                 4655\n",
       "Seed                                       762\n",
       "Stock Variation                           4232\n",
       "Total Population - Both sexes               45\n",
       "Tourist consumption                        555\n",
       "Name: Element, dtype: int64"
      ]
     },
     "execution_count": 48,
     "metadata": {},
     "output_type": "execute_result"
    }
   ],
   "source": [
    "ham.groupby('Element')['Element'].count()"
   ]
  },
  {
   "cell_type": "code",
   "execution_count": 41,
   "metadata": {},
   "outputs": [
    {
     "data": {
      "text/plain": [
       "Kenya                          1560\n",
       "Egypt                          1488\n",
       "Nigeria                        1474\n",
       "Côte d'Ivoire                  1467\n",
       "Senegal                        1462\n",
       "Cameroon                       1460\n",
       "Uganda                         1458\n",
       "Zambia                         1451\n",
       "Malawi                         1447\n",
       "Ethiopia                       1447\n",
       "Madagascar                     1439\n",
       "Mozambique                     1427\n",
       "Rwanda                         1426\n",
       "Angola                         1424\n",
       "United Republic of Tanzania    1419\n",
       "Congo                          1413\n",
       "Guinea                         1410\n",
       "Burkina Faso                   1409\n",
       "Niger                          1403\n",
       "South Africa                   1399\n",
       "Morocco                        1393\n",
       "Zimbabwe                       1393\n",
       "Botswana                       1378\n",
       "Mauritius                      1378\n",
       "Ghana                          1354\n",
       "Central African Republic       1344\n",
       "Chad                           1343\n",
       "Tunisia                        1338\n",
       "Sudan                          1316\n",
       "Algeria                        1313\n",
       "Togo                           1294\n",
       "Mali                           1293\n",
       "Benin                          1285\n",
       "Eswatini                       1284\n",
       "Namibia                        1283\n",
       "Cabo Verde                     1260\n",
       "Gabon                          1245\n",
       "Sierra Leone                   1242\n",
       "Liberia                        1206\n",
       "Mauritania                     1195\n",
       "Sao Tome and Principe          1177\n",
       "Gambia                         1168\n",
       "Lesotho                        1150\n",
       "Guinea-Bissau                  1128\n",
       "Djibouti                       1095\n",
       "Seychelles                       68\n",
       "Sudan (former)                   53\n",
       "Comoros                          45\n",
       "Ethiopia PDR                     39\n",
       "Name: Area, dtype: int64"
      ]
     },
     "execution_count": 41,
     "metadata": {},
     "output_type": "execute_result"
    }
   ],
   "source": [
    "ham['Area'].value_counts()"
   ]
  }
 ],
 "metadata": {
  "kernelspec": {
   "display_name": "Python 3",
   "language": "python",
   "name": "python3"
  },
  "language_info": {
   "codemirror_mode": {
    "name": "ipython",
    "version": 3
   },
   "file_extension": ".py",
   "mimetype": "text/x-python",
   "name": "python",
   "nbconvert_exporter": "python",
   "pygments_lexer": "ipython3",
   "version": "3.8.5"
  }
 },
 "nbformat": 4,
 "nbformat_minor": 4
}
